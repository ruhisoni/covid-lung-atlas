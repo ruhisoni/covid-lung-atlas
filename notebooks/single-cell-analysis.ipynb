{
 "cells": [
  {
   "cell_type": "code",
   "execution_count": null,
   "id": "54ac9b45",
   "metadata": {},
   "outputs": [],
   "source": [
    "## trying to get scvi to work\n",
    "# curl -L -O https://github.com/conda-forge/miniforge/releases/latest/download/Miniforge3-MacOSX-arm64.sh\n",
    "# bash Miniforge3-MacOSX-arm64.sh\n",
    "\n",
    "# conda create -n scvi-arm python=3.12\n",
    "# conda activate scvi-arm\n",
    "\n",
    "# conda install -c conda-forge scanpy scvi-tools\n",
    "# open command palette: cmd-p\n",
    "# select Python interpreter: scvi-arm"
   ]
  },
  {
   "cell_type": "code",
   "execution_count": 2,
   "id": "f2ccf217",
   "metadata": {},
   "outputs": [],
   "source": [
    "# !pip install scanpy"
   ]
  },
  {
   "cell_type": "code",
   "execution_count": 1,
   "id": "f241dd03",
   "metadata": {},
   "outputs": [
    {
     "name": "stdout",
     "output_type": "stream",
     "text": [
      "Intel MKL WARNING: Support of Intel(R) Streaming SIMD Extensions 4.2 (Intel(R) SSE4.2) enabled only processors has been deprecated. Intel oneAPI Math Kernel Library 2025.0 will require Intel(R) Advanced Vector Extensions (Intel(R) AVX) instructions.\n",
      "Intel MKL WARNING: Support of Intel(R) Streaming SIMD Extensions 4.2 (Intel(R) SSE4.2) enabled only processors has been deprecated. Intel oneAPI Math Kernel Library 2025.0 will require Intel(R) Advanced Vector Extensions (Intel(R) AVX) instructions.\n"
     ]
    }
   ],
   "source": [
    "import scanpy as sc"
   ]
  },
  {
   "cell_type": "code",
   "execution_count": 2,
   "id": "42691014",
   "metadata": {},
   "outputs": [
    {
     "data": {
      "text/plain": [
       "AnnData object with n_obs × n_vars = 6099 × 34546"
      ]
     },
     "execution_count": 2,
     "metadata": {},
     "output_type": "execute_result"
    }
   ],
   "source": [
    "adata = sc.read_csv(\"../data/GSM5226574_C51ctr_raw_counts.csv.gz\").T\n",
    "adata"
   ]
  },
  {
   "cell_type": "code",
   "execution_count": 3,
   "id": "aa894c2f",
   "metadata": {},
   "outputs": [],
   "source": [
    "# View components\n",
    "# adata.obs <- dataframe of cells\n",
    "# adata.var <- dataframe of genes \n",
    "# adata.X <- numpy array of counts\n",
    "# adata.shape <- (cells, genes)"
   ]
  },
  {
   "cell_type": "markdown",
   "id": "b5aa28bc",
   "metadata": {},
   "source": [
    "# Pre-processing"
   ]
  },
  {
   "cell_type": "markdown",
   "id": "6d1d019c",
   "metadata": {},
   "source": [
    "## Doublet removal\n",
    "This step is optional but recommended because sometimes two or more cells can end up in the same droplet during scRNA-seq. \\\n",
    "You shouldn't do this on an integrated matrix of all samples, bur rather you do this on individual samples first and then integrate them."
   ]
  },
  {
   "cell_type": "code",
   "execution_count": 4,
   "id": "c2337b85",
   "metadata": {},
   "outputs": [],
   "source": [
    "# !pip install scvi-tools"
   ]
  },
  {
   "cell_type": "code",
   "execution_count": 5,
   "id": "83511eca",
   "metadata": {},
   "outputs": [
    {
     "name": "stderr",
     "output_type": "stream",
     "text": [
      "/Users/ruhi/Downloads/miniconda3/envs/scvi-arm/lib/python3.12/site-packages/tqdm/auto.py:21: TqdmWarning: IProgress not found. Please update jupyter and ipywidgets. See https://ipywidgets.readthedocs.io/en/stable/user_install.html\n",
      "  from .autonotebook import tqdm as notebook_tqdm\n"
     ]
    }
   ],
   "source": [
    "import scvi"
   ]
  },
  {
   "cell_type": "code",
   "execution_count": 6,
   "id": "cea3e950",
   "metadata": {},
   "outputs": [
    {
     "data": {
      "text/plain": [
       "AnnData object with n_obs × n_vars = 6099 × 34546"
      ]
     },
     "execution_count": 6,
     "metadata": {},
     "output_type": "execute_result"
    }
   ],
   "source": [
    "adata"
   ]
  },
  {
   "cell_type": "code",
   "execution_count": 7,
   "id": "bdcebb75",
   "metadata": {},
   "outputs": [],
   "source": [
    "# Only keep genes which are expressed in at least 10 cells\n",
    "sc.pp.filter_genes(adata, min_cells = 10)"
   ]
  },
  {
   "cell_type": "code",
   "execution_count": 8,
   "id": "f627723e",
   "metadata": {},
   "outputs": [
    {
     "data": {
      "text/plain": [
       "AnnData object with n_obs × n_vars = 6099 × 19896\n",
       "    var: 'n_cells'"
      ]
     },
     "execution_count": 8,
     "metadata": {},
     "output_type": "execute_result"
    }
   ],
   "source": [
    "adata"
   ]
  },
  {
   "cell_type": "code",
   "execution_count": null,
   "id": "2faa1c10",
   "metadata": {},
   "outputs": [
    {
     "name": "stdout",
     "output_type": "stream",
     "text": [
      "Collecting scikit-misc\n",
      "  Using cached scikit_misc-0.5.1-cp312-cp312-macosx_10_13_x86_64.whl.metadata (5.0 kB)\n",
      "Requirement already satisfied: numpy>=1.23.5 in /Users/ruhi/Downloads/miniconda3/envs/scvi-arm/lib/python3.12/site-packages (from scikit-misc) (2.2.6)\n",
      "Using cached scikit_misc-0.5.1-cp312-cp312-macosx_10_13_x86_64.whl (170 kB)\n",
      "Installing collected packages: scikit-misc\n",
      "Successfully installed scikit-misc-0.5.1\n"
     ]
    }
   ],
   "source": [
    "# !pip install scikit-misc"
   ]
  },
  {
   "cell_type": "code",
   "execution_count": 11,
   "id": "a957c22b",
   "metadata": {},
   "outputs": [],
   "source": [
    "# Only keep the top 2000 most variable genes\n",
    "sc.pp.highly_variable_genes(adata, n_top_genes=2000, subset=True, flavor=\"seurat_v3\")"
   ]
  },
  {
   "cell_type": "code",
   "execution_count": 12,
   "id": "da001e14",
   "metadata": {},
   "outputs": [
    {
     "data": {
      "text/plain": [
       "AnnData object with n_obs × n_vars = 6099 × 2000\n",
       "    var: 'n_cells', 'highly_variable', 'highly_variable_rank', 'means', 'variances', 'variances_norm'\n",
       "    uns: 'hvg'"
      ]
     },
     "execution_count": 12,
     "metadata": {},
     "output_type": "execute_result"
    }
   ],
   "source": [
    "adata"
   ]
  },
  {
   "cell_type": "code",
   "execution_count": 13,
   "id": "0a8a7ec2",
   "metadata": {},
   "outputs": [
    {
     "name": "stderr",
     "output_type": "stream",
     "text": [
      "GPU available: False, used: False\n",
      "TPU available: False, using: 0 TPU cores\n",
      "HPU available: False, using: 0 HPUs\n",
      "/Users/ruhi/Downloads/miniconda3/envs/scvi-arm/lib/python3.12/site-packages/lightning/pytorch/trainer/connectors/data_connector.py:425: The 'train_dataloader' does not have many workers which may be a bottleneck. Consider increasing the value of the `num_workers` argument` to `num_workers=7` in the `DataLoader` to improve performance.\n"
     ]
    },
    {
     "name": "stdout",
     "output_type": "stream",
     "text": [
      "Epoch 400/400: 100%|██████████| 400/400 [22:02<00:00,  1.38s/it, v_num=1, train_loss_step=319, train_loss_epoch=322]"
     ]
    },
    {
     "name": "stderr",
     "output_type": "stream",
     "text": [
      "`Trainer.fit` stopped: `max_epochs=400` reached.\n"
     ]
    },
    {
     "name": "stdout",
     "output_type": "stream",
     "text": [
      "Epoch 400/400: 100%|██████████| 400/400 [22:02<00:00,  3.31s/it, v_num=1, train_loss_step=319, train_loss_epoch=322]\n"
     ]
    }
   ],
   "source": [
    "# Set up an scvi model that can predict the doublets\n",
    "# Note: This cell takes some time to run, especially if you don't have a GPU\n",
    "scvi.model.SCVI.setup_anndata(adata)\n",
    "vae = scvi.model.SCVI(adata)\n",
    "vae.train()"
   ]
  },
  {
   "cell_type": "code",
   "execution_count": 14,
   "id": "bdb8ec40",
   "metadata": {},
   "outputs": [
    {
     "name": "stdout",
     "output_type": "stream",
     "text": [
      "\u001b[34mINFO    \u001b[0m Creating doublets, preparing SOLO model.                                                                  \n"
     ]
    },
    {
     "name": "stderr",
     "output_type": "stream",
     "text": [
      "GPU available: False, used: False\n",
      "TPU available: False, using: 0 TPU cores\n",
      "HPU available: False, using: 0 HPUs\n",
      "/Users/ruhi/Downloads/miniconda3/envs/scvi-arm/lib/python3.12/site-packages/lightning/pytorch/trainer/connectors/data_connector.py:425: The 'train_dataloader' does not have many workers which may be a bottleneck. Consider increasing the value of the `num_workers` argument` to `num_workers=7` in the `DataLoader` to improve performance.\n",
      "/Users/ruhi/Downloads/miniconda3/envs/scvi-arm/lib/python3.12/site-packages/lightning/pytorch/trainer/connectors/data_connector.py:425: The 'val_dataloader' does not have many workers which may be a bottleneck. Consider increasing the value of the `num_workers` argument` to `num_workers=7` in the `DataLoader` to improve performance.\n"
     ]
    },
    {
     "name": "stdout",
     "output_type": "stream",
     "text": [
      "Epoch 328/400:  82%|████████▏ | 328/400 [01:28<00:19,  3.70it/s, v_num=1, train_loss_step=0.256, train_loss_epoch=0.292]\n",
      "Monitored metric validation_loss did not improve in the last 30 records. Best score: 0.283. Signaling Trainer to stop.\n"
     ]
    }
   ],
   "source": [
    "solo = scvi.external.SOLO.from_scvi_model(vae)\n",
    "solo.train()"
   ]
  },
  {
   "cell_type": "code",
   "execution_count": 18,
   "id": "397ea906",
   "metadata": {},
   "outputs": [
    {
     "name": "stderr",
     "output_type": "stream",
     "text": [
      "/Users/ruhi/Downloads/miniconda3/envs/scvi-arm/lib/python3.12/site-packages/torch/utils/_contextlib.py:116: UserWarning: Prior to scvi-tools 1.1.3, `SOLO.predict` with `soft=True` (the default option) returned logits instead of probabilities. This behavior has since been corrected to return probabiltiies. The previous behavior can be replicated by passing in `return_logits=True`.\n",
      "  return func(*args, **kwargs)\n",
      "/Users/ruhi/Downloads/miniconda3/envs/scvi-arm/lib/python3.12/site-packages/torch/utils/_contextlib.py:116: UserWarning: Prior to scvi-tools 1.1.3, `SOLO.predict` with `soft=True` (the default option) returned logits instead of probabilities. This behavior has since been corrected to return probabiltiies. The previous behavior can be replicated by passing in `return_logits=True`.\n",
      "  return func(*args, **kwargs)\n"
     ]
    },
    {
     "data": {
      "text/html": [
       "<div>\n",
       "<style scoped>\n",
       "    .dataframe tbody tr th:only-of-type {\n",
       "        vertical-align: middle;\n",
       "    }\n",
       "\n",
       "    .dataframe tbody tr th {\n",
       "        vertical-align: top;\n",
       "    }\n",
       "\n",
       "    .dataframe thead th {\n",
       "        text-align: right;\n",
       "    }\n",
       "</style>\n",
       "<table border=\"1\" class=\"dataframe\">\n",
       "  <thead>\n",
       "    <tr style=\"text-align: right;\">\n",
       "      <th></th>\n",
       "      <th>doublet</th>\n",
       "      <th>singlet</th>\n",
       "      <th>prediction</th>\n",
       "    </tr>\n",
       "  </thead>\n",
       "  <tbody>\n",
       "    <tr>\n",
       "      <th>TAGGTACCATGGCCAC-1_1</th>\n",
       "      <td>0.833565</td>\n",
       "      <td>0.166435</td>\n",
       "      <td>doublet</td>\n",
       "    </tr>\n",
       "    <tr>\n",
       "      <th>ATTCACTGTAACAGGC-1_1</th>\n",
       "      <td>0.817652</td>\n",
       "      <td>0.182348</td>\n",
       "      <td>doublet</td>\n",
       "    </tr>\n",
       "    <tr>\n",
       "      <th>TAACTTCCAACCACGC-1_1</th>\n",
       "      <td>0.759934</td>\n",
       "      <td>0.240066</td>\n",
       "      <td>doublet</td>\n",
       "    </tr>\n",
       "    <tr>\n",
       "      <th>TTGGGTACACGACAAG-1_1</th>\n",
       "      <td>0.768899</td>\n",
       "      <td>0.231101</td>\n",
       "      <td>doublet</td>\n",
       "    </tr>\n",
       "    <tr>\n",
       "      <th>AGGCCACAGAGTCACG-1_1</th>\n",
       "      <td>0.753801</td>\n",
       "      <td>0.246199</td>\n",
       "      <td>doublet</td>\n",
       "    </tr>\n",
       "    <tr>\n",
       "      <th>...</th>\n",
       "      <td>...</td>\n",
       "      <td>...</td>\n",
       "      <td>...</td>\n",
       "    </tr>\n",
       "    <tr>\n",
       "      <th>CGCCATTGTTTGCCGG-1_1</th>\n",
       "      <td>0.216885</td>\n",
       "      <td>0.783115</td>\n",
       "      <td>singlet</td>\n",
       "    </tr>\n",
       "    <tr>\n",
       "      <th>CACTGGGGTCTACGTA-1_1</th>\n",
       "      <td>0.000541</td>\n",
       "      <td>0.999459</td>\n",
       "      <td>singlet</td>\n",
       "    </tr>\n",
       "    <tr>\n",
       "      <th>CATACTTGTAGAGGAA-1_1</th>\n",
       "      <td>0.009408</td>\n",
       "      <td>0.990592</td>\n",
       "      <td>singlet</td>\n",
       "    </tr>\n",
       "    <tr>\n",
       "      <th>TTTGGTTTCCACGGAC-1_1</th>\n",
       "      <td>0.000498</td>\n",
       "      <td>0.999502</td>\n",
       "      <td>singlet</td>\n",
       "    </tr>\n",
       "    <tr>\n",
       "      <th>ATGCATGAGTCATGAA-1_1</th>\n",
       "      <td>0.005606</td>\n",
       "      <td>0.994394</td>\n",
       "      <td>singlet</td>\n",
       "    </tr>\n",
       "  </tbody>\n",
       "</table>\n",
       "<p>6099 rows × 3 columns</p>\n",
       "</div>"
      ],
      "text/plain": [
       "                       doublet   singlet prediction\n",
       "TAGGTACCATGGCCAC-1_1  0.833565  0.166435    doublet\n",
       "ATTCACTGTAACAGGC-1_1  0.817652  0.182348    doublet\n",
       "TAACTTCCAACCACGC-1_1  0.759934  0.240066    doublet\n",
       "TTGGGTACACGACAAG-1_1  0.768899  0.231101    doublet\n",
       "AGGCCACAGAGTCACG-1_1  0.753801  0.246199    doublet\n",
       "...                        ...       ...        ...\n",
       "CGCCATTGTTTGCCGG-1_1  0.216885  0.783115    singlet\n",
       "CACTGGGGTCTACGTA-1_1  0.000541  0.999459    singlet\n",
       "CATACTTGTAGAGGAA-1_1  0.009408  0.990592    singlet\n",
       "TTTGGTTTCCACGGAC-1_1  0.000498  0.999502    singlet\n",
       "ATGCATGAGTCATGAA-1_1  0.005606  0.994394    singlet\n",
       "\n",
       "[6099 rows x 3 columns]"
      ]
     },
     "execution_count": 18,
     "metadata": {},
     "output_type": "execute_result"
    }
   ],
   "source": [
    "# Displays probabilities of being a singlet/doublet (higher --> more likely)\n",
    "df = solo.predict()\n",
    "# Adds a column with the predicted labels\n",
    "df['prediction'] = solo.predict(soft = False)\n",
    "df"
   ]
  },
  {
   "cell_type": "code",
   "execution_count": 19,
   "id": "5b3827b8",
   "metadata": {},
   "outputs": [],
   "source": [
    "# # Removes last two characters from the index (which scvi added to the barcodes)\n",
    "# # Note: This was not done in my case since scvi did not add any characters to my barcodes\n",
    "# df.index = df.index.map(lambda x: x[:-2])\n",
    "# df"
   ]
  },
  {
   "cell_type": "code",
   "execution_count": null,
   "id": "d9b608b4",
   "metadata": {},
   "outputs": [
    {
     "data": {
      "text/html": [
       "<div>\n",
       "<style scoped>\n",
       "    .dataframe tbody tr th:only-of-type {\n",
       "        vertical-align: middle;\n",
       "    }\n",
       "\n",
       "    .dataframe tbody tr th {\n",
       "        vertical-align: top;\n",
       "    }\n",
       "\n",
       "    .dataframe thead th {\n",
       "        text-align: right;\n",
       "    }\n",
       "</style>\n",
       "<table border=\"1\" class=\"dataframe\">\n",
       "  <thead>\n",
       "    <tr style=\"text-align: right;\">\n",
       "      <th></th>\n",
       "      <th>doublet</th>\n",
       "      <th>singlet</th>\n",
       "    </tr>\n",
       "    <tr>\n",
       "      <th>prediction</th>\n",
       "      <th></th>\n",
       "      <th></th>\n",
       "    </tr>\n",
       "  </thead>\n",
       "  <tbody>\n",
       "    <tr>\n",
       "      <th>doublet</th>\n",
       "      <td>1243</td>\n",
       "      <td>1243</td>\n",
       "    </tr>\n",
       "    <tr>\n",
       "      <th>singlet</th>\n",
       "      <td>4856</td>\n",
       "      <td>4856</td>\n",
       "    </tr>\n",
       "  </tbody>\n",
       "</table>\n",
       "</div>"
      ],
      "text/plain": [
       "            doublet  singlet\n",
       "prediction                  \n",
       "doublet        1243     1243\n",
       "singlet        4856     4856"
      ]
     },
     "execution_count": 20,
     "metadata": {},
     "output_type": "execute_result"
    }
   ],
   "source": [
    "df.groupby(\"prediction\").count()\n",
    "# This tells us that around 1240 cells are predicted to be doublets, which is around 20% of our dataset\n",
    "# However, some of the predicted probability differences between doublets and singlets are very low,\n",
    "# so we can reconsider whether we want to throw out all of the doublet-predicted cells, or make a more informed decision"
   ]
  },
  {
   "cell_type": "code",
   "execution_count": 25,
   "id": "6ec2f233",
   "metadata": {},
   "outputs": [
    {
     "data": {
      "text/html": [
       "<div>\n",
       "<style scoped>\n",
       "    .dataframe tbody tr th:only-of-type {\n",
       "        vertical-align: middle;\n",
       "    }\n",
       "\n",
       "    .dataframe tbody tr th {\n",
       "        vertical-align: top;\n",
       "    }\n",
       "\n",
       "    .dataframe thead th {\n",
       "        text-align: right;\n",
       "    }\n",
       "</style>\n",
       "<table border=\"1\" class=\"dataframe\">\n",
       "  <thead>\n",
       "    <tr style=\"text-align: right;\">\n",
       "      <th></th>\n",
       "      <th>doublet</th>\n",
       "      <th>singlet</th>\n",
       "      <th>prediction</th>\n",
       "      <th>difference</th>\n",
       "    </tr>\n",
       "  </thead>\n",
       "  <tbody>\n",
       "    <tr>\n",
       "      <th>TAGGTACCATGGCCAC-1_1</th>\n",
       "      <td>0.833565</td>\n",
       "      <td>0.166435</td>\n",
       "      <td>doublet</td>\n",
       "      <td>0.667129</td>\n",
       "    </tr>\n",
       "    <tr>\n",
       "      <th>ATTCACTGTAACAGGC-1_1</th>\n",
       "      <td>0.817652</td>\n",
       "      <td>0.182348</td>\n",
       "      <td>doublet</td>\n",
       "      <td>0.635303</td>\n",
       "    </tr>\n",
       "    <tr>\n",
       "      <th>TAACTTCCAACCACGC-1_1</th>\n",
       "      <td>0.759934</td>\n",
       "      <td>0.240066</td>\n",
       "      <td>doublet</td>\n",
       "      <td>0.519868</td>\n",
       "    </tr>\n",
       "    <tr>\n",
       "      <th>TTGGGTACACGACAAG-1_1</th>\n",
       "      <td>0.768899</td>\n",
       "      <td>0.231101</td>\n",
       "      <td>doublet</td>\n",
       "      <td>0.537798</td>\n",
       "    </tr>\n",
       "    <tr>\n",
       "      <th>AGGCCACAGAGTCACG-1_1</th>\n",
       "      <td>0.753801</td>\n",
       "      <td>0.246199</td>\n",
       "      <td>doublet</td>\n",
       "      <td>0.507603</td>\n",
       "    </tr>\n",
       "    <tr>\n",
       "      <th>...</th>\n",
       "      <td>...</td>\n",
       "      <td>...</td>\n",
       "      <td>...</td>\n",
       "      <td>...</td>\n",
       "    </tr>\n",
       "    <tr>\n",
       "      <th>CGCCATTGTTTGCCGG-1_1</th>\n",
       "      <td>0.216885</td>\n",
       "      <td>0.783115</td>\n",
       "      <td>singlet</td>\n",
       "      <td>-0.566230</td>\n",
       "    </tr>\n",
       "    <tr>\n",
       "      <th>CACTGGGGTCTACGTA-1_1</th>\n",
       "      <td>0.000541</td>\n",
       "      <td>0.999459</td>\n",
       "      <td>singlet</td>\n",
       "      <td>-0.998918</td>\n",
       "    </tr>\n",
       "    <tr>\n",
       "      <th>CATACTTGTAGAGGAA-1_1</th>\n",
       "      <td>0.009408</td>\n",
       "      <td>0.990592</td>\n",
       "      <td>singlet</td>\n",
       "      <td>-0.981183</td>\n",
       "    </tr>\n",
       "    <tr>\n",
       "      <th>TTTGGTTTCCACGGAC-1_1</th>\n",
       "      <td>0.000498</td>\n",
       "      <td>0.999502</td>\n",
       "      <td>singlet</td>\n",
       "      <td>-0.999004</td>\n",
       "    </tr>\n",
       "    <tr>\n",
       "      <th>ATGCATGAGTCATGAA-1_1</th>\n",
       "      <td>0.005606</td>\n",
       "      <td>0.994394</td>\n",
       "      <td>singlet</td>\n",
       "      <td>-0.988788</td>\n",
       "    </tr>\n",
       "  </tbody>\n",
       "</table>\n",
       "<p>6099 rows × 4 columns</p>\n",
       "</div>"
      ],
      "text/plain": [
       "                       doublet   singlet prediction  difference\n",
       "TAGGTACCATGGCCAC-1_1  0.833565  0.166435    doublet    0.667129\n",
       "ATTCACTGTAACAGGC-1_1  0.817652  0.182348    doublet    0.635303\n",
       "TAACTTCCAACCACGC-1_1  0.759934  0.240066    doublet    0.519868\n",
       "TTGGGTACACGACAAG-1_1  0.768899  0.231101    doublet    0.537798\n",
       "AGGCCACAGAGTCACG-1_1  0.753801  0.246199    doublet    0.507603\n",
       "...                        ...       ...        ...         ...\n",
       "CGCCATTGTTTGCCGG-1_1  0.216885  0.783115    singlet   -0.566230\n",
       "CACTGGGGTCTACGTA-1_1  0.000541  0.999459    singlet   -0.998918\n",
       "CATACTTGTAGAGGAA-1_1  0.009408  0.990592    singlet   -0.981183\n",
       "TTTGGTTTCCACGGAC-1_1  0.000498  0.999502    singlet   -0.999004\n",
       "ATGCATGAGTCATGAA-1_1  0.005606  0.994394    singlet   -0.988788\n",
       "\n",
       "[6099 rows x 4 columns]"
      ]
     },
     "execution_count": 25,
     "metadata": {},
     "output_type": "execute_result"
    }
   ],
   "source": [
    "df[\"difference\"] = df[\"doublet\"] - df[\"singlet\"]\n",
    "df"
   ]
  },
  {
   "cell_type": "code",
   "execution_count": 22,
   "id": "72ee6082",
   "metadata": {},
   "outputs": [],
   "source": [
    "import seaborn as sns"
   ]
  },
  {
   "cell_type": "code",
   "execution_count": 28,
   "id": "7f102413",
   "metadata": {},
   "outputs": [
    {
     "data": {
      "text/plain": [
       "<seaborn.axisgrid.FacetGrid at 0x194f094f0>"
      ]
     },
     "execution_count": 28,
     "metadata": {},
     "output_type": "execute_result"
    },
    {
     "data": {
      "image/png": "[encoded data removed]",
      "text/plain": [
       "<Figure size 500x500 with 1 Axes>"
      ]
     },
     "metadata": {},
     "output_type": "display_data"
    }
   ],
   "source": [
    "sns.displot(df[df.prediction == 'doublet'], x = 'difference')"
   ]
  },
  {
   "cell_type": "code",
   "execution_count": null,
   "id": "b86c80ab",
   "metadata": {},
   "outputs": [
    {
     "data": {
      "text/html": [
       "<div>\n",
       "<style scoped>\n",
       "    .dataframe tbody tr th:only-of-type {\n",
       "        vertical-align: middle;\n",
       "    }\n",
       "\n",
       "    .dataframe tbody tr th {\n",
       "        vertical-align: top;\n",
       "    }\n",
       "\n",
       "    .dataframe thead th {\n",
       "        text-align: right;\n",
       "    }\n",
       "</style>\n",
       "<table border=\"1\" class=\"dataframe\">\n",
       "  <thead>\n",
       "    <tr style=\"text-align: right;\">\n",
       "      <th></th>\n",
       "      <th>doublet</th>\n",
       "      <th>singlet</th>\n",
       "      <th>prediction</th>\n",
       "      <th>difference</th>\n",
       "    </tr>\n",
       "  </thead>\n",
       "  <tbody>\n",
       "    <tr>\n",
       "      <th>TAGGTACCATGGCCAC-1_1</th>\n",
       "      <td>0.833565</td>\n",
       "      <td>0.166435</td>\n",
       "      <td>doublet</td>\n",
       "      <td>0.667129</td>\n",
       "    </tr>\n",
       "    <tr>\n",
       "      <th>ATTCACTGTAACAGGC-1_1</th>\n",
       "      <td>0.817652</td>\n",
       "      <td>0.182348</td>\n",
       "      <td>doublet</td>\n",
       "      <td>0.635303</td>\n",
       "    </tr>\n",
       "    <tr>\n",
       "      <th>TAACTTCCAACCACGC-1_1</th>\n",
       "      <td>0.759934</td>\n",
       "      <td>0.240066</td>\n",
       "      <td>doublet</td>\n",
       "      <td>0.519868</td>\n",
       "    </tr>\n",
       "    <tr>\n",
       "      <th>TTGGGTACACGACAAG-1_1</th>\n",
       "      <td>0.768899</td>\n",
       "      <td>0.231101</td>\n",
       "      <td>doublet</td>\n",
       "      <td>0.537798</td>\n",
       "    </tr>\n",
       "    <tr>\n",
       "      <th>AGGCCACAGAGTCACG-1_1</th>\n",
       "      <td>0.753801</td>\n",
       "      <td>0.246199</td>\n",
       "      <td>doublet</td>\n",
       "      <td>0.507603</td>\n",
       "    </tr>\n",
       "    <tr>\n",
       "      <th>...</th>\n",
       "      <td>...</td>\n",
       "      <td>...</td>\n",
       "      <td>...</td>\n",
       "      <td>...</td>\n",
       "    </tr>\n",
       "    <tr>\n",
       "      <th>ACCTGAAGTGGCTGAA-1_1</th>\n",
       "      <td>0.567181</td>\n",
       "      <td>0.432819</td>\n",
       "      <td>doublet</td>\n",
       "      <td>0.134361</td>\n",
       "    </tr>\n",
       "    <tr>\n",
       "      <th>GGAGGTAGTTAAGCAA-1_1</th>\n",
       "      <td>0.610602</td>\n",
       "      <td>0.389398</td>\n",
       "      <td>doublet</td>\n",
       "      <td>0.221203</td>\n",
       "    </tr>\n",
       "    <tr>\n",
       "      <th>CGGGCATCATGGCTGC-1_1</th>\n",
       "      <td>0.633712</td>\n",
       "      <td>0.366288</td>\n",
       "      <td>doublet</td>\n",
       "      <td>0.267424</td>\n",
       "    </tr>\n",
       "    <tr>\n",
       "      <th>GACTCAAGTTGTCCCT-1_1</th>\n",
       "      <td>0.637190</td>\n",
       "      <td>0.362810</td>\n",
       "      <td>doublet</td>\n",
       "      <td>0.274379</td>\n",
       "    </tr>\n",
       "    <tr>\n",
       "      <th>TCATGCCCAAGAGGTC-1_1</th>\n",
       "      <td>0.577858</td>\n",
       "      <td>0.422142</td>\n",
       "      <td>doublet</td>\n",
       "      <td>0.155716</td>\n",
       "    </tr>\n",
       "  </tbody>\n",
       "</table>\n",
       "<p>1041 rows × 4 columns</p>\n",
       "</div>"
      ],
      "text/plain": [
       "                       doublet   singlet prediction  difference\n",
       "TAGGTACCATGGCCAC-1_1  0.833565  0.166435    doublet    0.667129\n",
       "ATTCACTGTAACAGGC-1_1  0.817652  0.182348    doublet    0.635303\n",
       "TAACTTCCAACCACGC-1_1  0.759934  0.240066    doublet    0.519868\n",
       "TTGGGTACACGACAAG-1_1  0.768899  0.231101    doublet    0.537798\n",
       "AGGCCACAGAGTCACG-1_1  0.753801  0.246199    doublet    0.507603\n",
       "...                        ...       ...        ...         ...\n",
       "ACCTGAAGTGGCTGAA-1_1  0.567181  0.432819    doublet    0.134361\n",
       "GGAGGTAGTTAAGCAA-1_1  0.610602  0.389398    doublet    0.221203\n",
       "CGGGCATCATGGCTGC-1_1  0.633712  0.366288    doublet    0.267424\n",
       "GACTCAAGTTGTCCCT-1_1  0.637190  0.362810    doublet    0.274379\n",
       "TCATGCCCAAGAGGTC-1_1  0.577858  0.422142    doublet    0.155716\n",
       "\n",
       "[1041 rows x 4 columns]"
      ]
     },
     "execution_count": 31,
     "metadata": {},
     "output_type": "execute_result"
    }
   ],
   "source": [
    "# A difference above 0.1 was chosen arbitrarily based on the sns distribution\n",
    "doublets = df[(df.prediction == 'doublet') & (df.difference > 0.1)]\n",
    "doublets"
   ]
  },
  {
   "cell_type": "code",
   "execution_count": 32,
   "id": "d79bac6b",
   "metadata": {},
   "outputs": [
    {
     "data": {
      "text/plain": [
       "AnnData object with n_obs × n_vars = 6099 × 2000\n",
       "    obs: '_scvi_batch', '_scvi_labels'\n",
       "    var: 'n_cells', 'highly_variable', 'highly_variable_rank', 'means', 'variances', 'variances_norm'\n",
       "    uns: 'hvg', '_scvi_uuid', '_scvi_manager_uuid'"
      ]
     },
     "execution_count": 32,
     "metadata": {},
     "output_type": "execute_result"
    }
   ],
   "source": [
    "adata"
   ]
  },
  {
   "cell_type": "code",
   "execution_count": 33,
   "id": "2b39a8cd",
   "metadata": {},
   "outputs": [
    {
     "data": {
      "text/plain": [
       "AnnData object with n_obs × n_vars = 6099 × 34546"
      ]
     },
     "execution_count": 33,
     "metadata": {},
     "output_type": "execute_result"
    }
   ],
   "source": [
    "adata = sc.read_csv(\"../data/GSM5226574_C51ctr_raw_counts.csv.gz\").T\n",
    "adata"
   ]
  },
  {
   "cell_type": "code",
   "execution_count": 37,
   "id": "67ed069f",
   "metadata": {},
   "outputs": [
    {
     "data": {
      "text/html": [
       "<div>\n",
       "<style scoped>\n",
       "    .dataframe tbody tr th:only-of-type {\n",
       "        vertical-align: middle;\n",
       "    }\n",
       "\n",
       "    .dataframe tbody tr th {\n",
       "        vertical-align: top;\n",
       "    }\n",
       "\n",
       "    .dataframe thead th {\n",
       "        text-align: right;\n",
       "    }\n",
       "</style>\n",
       "<table border=\"1\" class=\"dataframe\">\n",
       "  <thead>\n",
       "    <tr style=\"text-align: right;\">\n",
       "      <th></th>\n",
       "      <th>doublet</th>\n",
       "    </tr>\n",
       "  </thead>\n",
       "  <tbody>\n",
       "    <tr>\n",
       "      <th>TAGGTACCATGGCCAC-1_1</th>\n",
       "      <td>True</td>\n",
       "    </tr>\n",
       "    <tr>\n",
       "      <th>ATTCACTGTAACAGGC-1_1</th>\n",
       "      <td>True</td>\n",
       "    </tr>\n",
       "    <tr>\n",
       "      <th>TAACTTCCAACCACGC-1_1</th>\n",
       "      <td>True</td>\n",
       "    </tr>\n",
       "    <tr>\n",
       "      <th>TTGGGTACACGACAAG-1_1</th>\n",
       "      <td>True</td>\n",
       "    </tr>\n",
       "    <tr>\n",
       "      <th>AGGCCACAGAGTCACG-1_1</th>\n",
       "      <td>True</td>\n",
       "    </tr>\n",
       "    <tr>\n",
       "      <th>...</th>\n",
       "      <td>...</td>\n",
       "    </tr>\n",
       "    <tr>\n",
       "      <th>CGCCATTGTTTGCCGG-1_1</th>\n",
       "      <td>False</td>\n",
       "    </tr>\n",
       "    <tr>\n",
       "      <th>CACTGGGGTCTACGTA-1_1</th>\n",
       "      <td>False</td>\n",
       "    </tr>\n",
       "    <tr>\n",
       "      <th>CATACTTGTAGAGGAA-1_1</th>\n",
       "      <td>False</td>\n",
       "    </tr>\n",
       "    <tr>\n",
       "      <th>TTTGGTTTCCACGGAC-1_1</th>\n",
       "      <td>False</td>\n",
       "    </tr>\n",
       "    <tr>\n",
       "      <th>ATGCATGAGTCATGAA-1_1</th>\n",
       "      <td>False</td>\n",
       "    </tr>\n",
       "  </tbody>\n",
       "</table>\n",
       "<p>6099 rows × 1 columns</p>\n",
       "</div>"
      ],
      "text/plain": [
       "                      doublet\n",
       "TAGGTACCATGGCCAC-1_1     True\n",
       "ATTCACTGTAACAGGC-1_1     True\n",
       "TAACTTCCAACCACGC-1_1     True\n",
       "TTGGGTACACGACAAG-1_1     True\n",
       "AGGCCACAGAGTCACG-1_1     True\n",
       "...                       ...\n",
       "CGCCATTGTTTGCCGG-1_1    False\n",
       "CACTGGGGTCTACGTA-1_1    False\n",
       "CATACTTGTAGAGGAA-1_1    False\n",
       "TTTGGTTTCCACGGAC-1_1    False\n",
       "ATGCATGAGTCATGAA-1_1    False\n",
       "\n",
       "[6099 rows x 1 columns]"
      ]
     },
     "execution_count": 37,
     "metadata": {},
     "output_type": "execute_result"
    }
   ],
   "source": [
    "adata.obs['doublet'] = adata.obs.index.isin(doublets.index)\n",
    "adata.obs"
   ]
  },
  {
   "cell_type": "code",
   "execution_count": 38,
   "id": "8b6a1b19",
   "metadata": {},
   "outputs": [
    {
     "data": {
      "text/plain": [
       "View of AnnData object with n_obs × n_vars = 5058 × 34546\n",
       "    obs: 'doublet'"
      ]
     },
     "execution_count": 38,
     "metadata": {},
     "output_type": "execute_result"
    }
   ],
   "source": [
    "adata = adata[~adata.obs.doublet]\n",
    "# The tilde means False i.e. this keeps all cells that are not doublets\n",
    "adata"
   ]
  },
  {
   "cell_type": "code",
   "execution_count": null,
   "id": "2b6a2970",
   "metadata": {},
   "outputs": [],
   "source": []
  },
  {
   "cell_type": "code",
   "execution_count": null,
   "id": "8f6b69fa",
   "metadata": {},
   "outputs": [],
   "source": []
  },
  {
   "cell_type": "code",
   "execution_count": null,
   "id": "03c3784c",
   "metadata": {},
   "outputs": [],
   "source": []
  },
  {
   "cell_type": "code",
   "execution_count": null,
   "id": "2aaf3dc4",
   "metadata": {},
   "outputs": [],
   "source": []
  },
  {
   "cell_type": "code",
   "execution_count": null,
   "id": "e09133ee",
   "metadata": {},
   "outputs": [],
   "source": []
  },
  {
   "cell_type": "code",
   "execution_count": null,
   "id": "af0c2854",
   "metadata": {},
   "outputs": [],
   "source": []
  },
  {
   "cell_type": "code",
   "execution_count": null,
   "id": "c5ce8cc8",
   "metadata": {},
   "outputs": [],
   "source": []
  }
 ],
 "metadata": {
  "kernelspec": {
   "display_name": "scvi-arm",
   "language": "python",
   "name": "python3"
  },
  "language_info": {
   "codemirror_mode": {
    "name": "ipython",
    "version": 3
   },
   "file_extension": ".py",
   "mimetype": "text/x-python",
   "name": "python",
   "nbconvert_exporter": "python",
   "pygments_lexer": "ipython3",
   "version": "3.12.11"
  }
 },
 "nbformat": 4,
 "nbformat_minor": 5
}
